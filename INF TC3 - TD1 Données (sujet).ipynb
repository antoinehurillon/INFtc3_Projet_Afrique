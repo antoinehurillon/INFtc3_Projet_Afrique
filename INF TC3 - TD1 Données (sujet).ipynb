{
 "cells": [
  {
   "cell_type": "markdown",
   "metadata": {},
   "source": [
    "# <center>Informatique tc3 (Projet Web) - TD1</center>"
   ]
  },
  {
   "cell_type": "markdown",
   "metadata": {},
   "source": [
    "## <center style=\"color: #66d\">Récupération, mise en forme, et stockage de données via Python / SQLite</center>"
   ]
  },
  {
   "cell_type": "markdown",
   "metadata": {},
   "source": [
    "Dans le cadre de ce TD nous récupérerons en ligne des données concernant des pays, que nous mettrons en forme et stockerons dans une base de données afin de les utiliser pour obtenir des représentations graphiques, tout cela à l'aide de Python."
   ]
  },
  {
   "cell_type": "markdown",
   "metadata": {},
   "source": [
    "<h3 style=\"background-color:#eef; padding:0.5em\">1. Contexte et mise en place des outils"
   ]
  },
  {
   "cell_type": "markdown",
   "metadata": {},
   "source": [
    "La page wikipédia d'un pays (cf. par exemple https://en.wikipedia.org/wiki/Zimbabwe) donne de nombreuses informations, souvent peu structurées (texte de la page) mais dont certaines le sont suffisament pour pouvoir donner lieu à un traitement automatique (cf. boîte d'informations située à droite de la page) :\n",
    "<img src=\"infobox.png\">\n",
    "<div style=\"text-align:center; font-size:80%; margin-top:0.5em\">Partie supérieure de la boîte d'information relative au Zimbabwe</div>"
   ]
  },
  {
   "cell_type": "markdown",
   "metadata": {
    "collapsed": true
   },
   "source": [
    "On peut ainsi espérer récupérer des informations comme le nom officiel du pays, un lien vers une image du drapeau, une devise, un lien vers l'hymne national, le nom et les coordonnées géographiques de la capitale, le nombre d'habitants, *etc.*"
   ]
  },
  {
   "cell_type": "markdown",
   "metadata": {},
   "source": [
    "L'objectif étant de réaliser une application délivrant des informations sur de nombreux pays, il n'est pas envisageable d'interrroger wikipédia à chaque fois. La construction de notre application passera donc par une phase d'initialisation lors de laquelle les informations nécessaires seront récupérées, puis stockées dans une base de données pour être réutilisées par la suite."
   ]
  },
  {
   "cell_type": "markdown",
   "metadata": {},
   "source": [
    "Le système de gestion de base de données qui sera utilisé pour la suite de ce TD et pour votre projet est SQLite. Ce système très simple fonctionne en stockant une base de données dans un fichier unique au format <code>.sqlite</code>."
   ]
  },
  {
   "cell_type": "markdown",
   "metadata": {},
   "source": [
    "<b>1.1. Analyse des pages Wikipédia :</b>\n",
    "    \n",
    "Pour récupérer les informations qui nous intéressent, il n'est pas question d'aspirer le contenu des  pages au format html, car d'une page Wikipédia à l'autre, html n'est pas utilisé de manière suffisamment structurée pour y retrouver les données.\n",
    "\n",
    "On peut alors penser au format wiki, qui correspond au code source tell qu'il est édité par les auteurs. On peut en avoir un aperçu à l'adresse : https://en.wikipedia.org/w/index.php?title=Zimbabwe&action=edit. Attention toutefois à ne pas en profiter pour modifier la page.\n",
    "\n",
    "Ce format est plus structurant et devrait pouvoir être analysé pour en extraire les informations...\n",
    "\n",
    "Pensons-nous être les premiers à nous poser cette question ? Sans doute pas :<br>\n",
    "cf. https://stackoverflow.com/questions/3312346/how-to-get-the-infobox-data-from-wikipedia\n",
    "\n",
    "Il existe différentes solutions pour récupérer les informations que nous recherchons, comme par exemple <a href=\"https://www.wikidata.org/wiki/Wikidata:Introduction/fr\">wikidata</a>, une base de données en ligne, libre, collaborative, et multilingue, qui collecte des données structurées pour alimenter entre autres Wikipédia et Wikimedia Commons. Toutefois, pour des raisons à la fois pédagogiques et de simplicité, nous nous bornerons à analyser le contenu des pages wikipédia, technique connue sous le nom de <a href=\"https://en.wikipedia.org/wiki/Web_scraping\">Web scraping</a>.\n",
    "\n",
    "Nous utiliserons pour cela le module <code>wptools</code> disponible sur Github.\n",
    "Si votre poste est correctment configuré avec la distribution Anaconda, le moyen le plus simple de l'installer est de lancer la commande suivante dans une fenêtre terminal (en ajoutant éventuellement l'option <tt>--user</tt> en cas d'échec) :"
   ]
  },
  {
   "cell_type": "raw",
   "metadata": {},
   "source": [
    "pip install wptools"
   ]
  },
  {
   "cell_type": "markdown",
   "metadata": {},
   "source": [
    "<div style=\"background-color:#dde;padding:10px;border-radius:3px\">\n",
    "<b>Etape 1 - </b> Installer <code>wptools</code>, puis, après avoir redémarré le noyau du notebook (cf. icône <img src=\"restart_kernel.png\" style=\"display:inline; position:relative; top:-10px\">), exécuter la cellule suivante qui ne devrait pas produire d'erreur&nbsp;:"
   ]
  },
  {
   "cell_type": "code",
   "execution_count": 11,
   "metadata": {},
   "outputs": [],
   "source": [
    "#\n",
    "# import du module d'analyse des pages wikipédia\n",
    "#\n",
    "import wptools"
   ]
  },
  {
   "cell_type": "markdown",
   "metadata": {
    "collapsed": true
   },
   "source": [
    "<b>1.2. Récupération d'information depuis une page Wikipédia :</b>\n",
    "\n",
    "Premier essai :"
   ]
  },
  {
   "cell_type": "code",
   "execution_count": 12,
   "metadata": {
    "scrolled": true
   },
   "outputs": [
    {
     "name": "stderr",
     "output_type": "stream",
     "text": [
      "en.wikipedia.org (parse) Zimbabwe\n"
     ]
    },
    {
     "data": {
      "text/plain": [
       "{'conventional_long_name': 'Republic of Zimbabwe',\n",
       " 'common_name': 'Zimbabwe',\n",
       " 'native_name': '{{collapsible list\\n| titlestyle |=| background:transparent;text-align:center;line-height:normal;font-size:84%;\\n| title |=| 13 other official names\\n| |Infobox|subbox|=|yes|bodystyle|=|font-size:77%;font-weight:normal;\\n| rowclass1 |=| mergedrow | label1 |=| [[Shona language|Shona]]:\\n| data1 |=| |lang|sn|Nyika yeZimbabwe|\\n| rowclass2 |=| mergedrow | label2 |=| [[Northern Ndebele language|Ndebele]]:\\n| data2 |=| |lang|nd|Ilizwe leZimbabwe|\\n| rowclass3 |=| mergedrow | label3 |=| [[Chewa language|Chewa]]:\\n| data3 |=| |lang|ny|Dziko la Zimbabwe|\\n| rowclass4 |=| mergedrow | label4 |=| [[Sena language|Chibarwe]]:\\n| data4 |=| |lang|bwg|Dziko la Zimbabwe|\\n| rowclass5 |=| mergedrow | label5 |=| [[Kalanga language|Kalanga]]:\\n| data5 |=| |lang|kck|Hango yeZimbabwe|\\n| rowclass6 |=| mergedrow | label6 |=| [[Tshwa language|Khoisan]]:\\n| data6 |=| |lang|st|Zimbabwe Nù|\\n| rowclass7 |=| mergedrow | label7 |=| [[Nambya language|Nambya]]:\\n| data7 |=| |lang|nmq|Inyika yeZimbabwe|\\n| rowclass8 |=| mergedrow | label8 |=| [[Ndau dialect|Ndau]]:\\n| data8 |=| |lang|ndc|Nyika yeZimbabwe|\\n| rowclass9 |=| mergedrow | label9 |=| [[Tsonga language|Shangani]]:\\n| data9 |=| |lang|ts|Tiko ra Zimbabwe|\\n| rowclass10 |=| mergedrow| label10 |=| [[Sesotho language|Sesotho]]:\\n| data10 |=| |lang|st|Naha ya Zimbabwe|\\n| rowclass11 |=| mergedrow| label11 |=| [[Tonga language (Zambia and Zimbabwe)|Tonga]]:\\n| data11 |=| |lang|st|Cisi ca Zimbabwe|\\n| rowclass12 |=| mergedrow| label12 |=| [[Venda language|Venda]]:\\n| data12 |=| |lang|ve|Shango ḽa Zimbabwe|\\n| rowclass13 |=| mergedrow| label13 |=| [[Xhosa language|Xhosa]]:\\n| data13 |=| |lang|xh|Ilizwe leZimbabwe|\\n|}} {{Infobox|subbox|=|yes|bodystyle|=|font-size:77%;font-weight:normal;\\n| rowclass1 |=| mergedrow | label1 |=| [[Shona language|Shona]]:\\n| data1 |=| |lang|sn|Nyika yeZimbabwe|\\n| rowclass2 |=| mergedrow | label2 |=| [[Northern Ndebele language|Ndebele]]:\\n| data2 |=| |lang|nd|Ilizwe leZimbabwe|\\n| rowclass3 |=| mergedrow | label3 |=| [[Chewa language|Chewa]]:\\n| data3 |=| |lang|ny|Dziko la Zimbabwe|\\n| rowclass4 |=| mergedrow | label4 |=| [[Sena language|Chibarwe]]:\\n| data4 |=| |lang|bwg|Dziko la Zimbabwe|\\n| rowclass5 |=| mergedrow | label5 |=| [[Kalanga language|Kalanga]]:\\n| data5 |=| |lang|kck|Hango yeZimbabwe|\\n| rowclass6 |=| mergedrow | label6 |=| [[Tshwa language|Khoisan]]:\\n| data6 |=| |lang|st|Zimbabwe Nù|\\n| rowclass7 |=| mergedrow | label7 |=| [[Nambya language|Nambya]]:\\n| data7 |=| |lang|nmq|Inyika yeZimbabwe|\\n| rowclass8 |=| mergedrow | label8 |=| [[Ndau dialect|Ndau]]:\\n| data8 |=| |lang|ndc|Nyika yeZimbabwe|\\n| rowclass9 |=| mergedrow | label9 |=| [[Tsonga language|Shangani]]:\\n| data9 |=| |lang|ts|Tiko ra Zimbabwe|\\n| rowclass10 |=| mergedrow| label10 |=| [[Sesotho language|Sesotho]]:\\n| data10 |=| |lang|st|Naha ya Zimbabwe|\\n| rowclass11 |=| mergedrow| label11 |=| [[Tonga language (Zambia and Zimbabwe)|Tonga]]:\\n| data11 |=| |lang|st|Cisi ca Zimbabwe|\\n| rowclass12 |=| mergedrow| label12 |=| [[Venda language|Venda]]:\\n| data12 |=| |lang|ve|Shango ḽa Zimbabwe|\\n| rowclass13 |=| mergedrow| label13 |=| [[Xhosa language|Xhosa]]:\\n| data13 |=| |lang|xh|Ilizwe leZimbabwe|}} {{lang|sn|Nyika yeZimbabwe}} {{lang|nd|Ilizwe leZimbabwe}} {{lang|ny|Dziko la Zimbabwe}} {{lang|bwg|Dziko la Zimbabwe}} {{lang|kck|Hango yeZimbabwe}} {{lang|st|Zimbabwe Nù}} {{lang|nmq|Inyika yeZimbabwe}} {{lang|ndc|Nyika yeZimbabwe}} {{lang|ts|Tiko ra Zimbabwe}} {{lang|st|Naha ya Zimbabwe}} {{lang|st|Cisi ca Zimbabwe}} {{lang|ve|Shango ḽa Zimbabwe}} {{lang|xh|Ilizwe leZimbabwe}}',\n",
       " 'image_flag': 'Flag of Zimbabwe.svg',\n",
       " 'image_coat': 'Coat of Arms of Zimbabwe.svg',\n",
       " 'national_motto': '\"Unity, Freedom, Work\"',\n",
       " 'national_anthem': '<br />\"[[National Anthem of Zimbabwe|Blessed be the land of Zimbabwe]]\" <div style= \"padding-top:0.5em;\"><center>[[File:Zimbabwe National Anthem.ogg]]</center></div>',\n",
       " 'image_map': 'Location Zimbabwe AU Africa.svg',\n",
       " 'map_caption': '{{map caption |location_color|=| dark blue |region|=| the [[African Union]] |region_color|=| light blue}}',\n",
       " 'capital': '[[Harare]]',\n",
       " 'coordinates': '{{Coord |17|50|S|31|3|E|type:city}}',\n",
       " 'largest_city': 'Harare',\n",
       " 'official_languages': '[[Languages of Zimbabwe|16 languages]]: {{hlist | [[Chewa language|Chewa]] | [[Chibarwe]] | [[English language|English]] | [[Kalanga language|Kalanga]] |\"[[Khoisan languages|Koisan]]\" (presumably [[Tsoa language|Tsoa]]) | [[Nambya language|Nambya]] | [[Ndau language|Ndau]] | [[Northern Ndebele language|Ndebele]] | [[Shangani language|Shangani]] |[[Shona language|Shona]] |\"[[Zimbabwean sign languages|sign language]]\" |[[Sotho language|Sotho]] | [[Tonga language (Zambia)|Tonga]] | [[Tswana language|Tswana]] | [[Venda language|Venda]] | [[Xhosa language|Xhosa]]}}',\n",
       " 'ethnic_groups': '{{unbulleted list\\n| 99.38% [[Black African]] (over 80% [[Shona people|Shona]]; [[Northern Ndebele people|Ndebele]] are largest minority)\\n| |nowrap|0.22% [[White people in Zimbabwe|White African]]|\\n| 0.14% [[Coloured]]\\n| 0.08% [[Asian people|Asian]]\\n| 0.01% Other\\n| 0.18% Not Stated}} {{nowrap|0.22% [[White people in Zimbabwe|White African]]}}',\n",
       " 'ethnic_groups_year': '2012 Census',\n",
       " 'demonym': 'Zimbabwean<br />Zimbo (colloquial)',\n",
       " 'government_type': '[[Unitary state|Unitary]] [[Dominant-party system|dominant-party]] [[Presidential system|presidential]] [[constitutional republic]]',\n",
       " 'leader_title1': '[[President of Zimbabwe|President]]',\n",
       " 'leader_name1': '[[Emmerson Mnangagwa]]',\n",
       " 'leader_title2': '[[Vice President of Zimbabwe|Vice Presidents]]',\n",
       " 'leader_name2': '[[Constantino Chiwenga]] <br> [[Kembo Mohadi]]',\n",
       " 'legislature': '[[Parliament of Zimbabwe|Parliament]]',\n",
       " 'upper_house': '[[Senate of Zimbabwe|Senate]]',\n",
       " 'lower_house': '[[House of Assembly (Zimbabwe)|National Assembly]]',\n",
       " 'sovereignty_type': '[[Independence]] {{nobold |from the [[United Kingdom]]}}',\n",
       " 'established_event1': '[[Unilateral Declaration of Independence (Rhodesia)|Declared]]',\n",
       " 'established_date1': '11 November 1965',\n",
       " 'established_event2': '[[Rhodesia|Republic]]',\n",
       " 'established_date2': '2 March 1970',\n",
       " 'established_event3': '[[Zimbabwe Rhodesia]]',\n",
       " 'established_date3': '1 June 1979',\n",
       " 'established_event4': 'Republic of Zimbabwe',\n",
       " 'established_date4': '18 April 1980',\n",
       " 'established_event5': '[[Constitution of Zimbabwe|Current constitution]]',\n",
       " 'established_date5': '15 May 2013',\n",
       " 'area_km2': '390,757',\n",
       " 'area_rank': '60th',\n",
       " 'area_sq_mi': '150,871',\n",
       " 'percent_water': '1',\n",
       " 'population_estimate': '{{UN_Population |Zimbabwe}} {{UN_Population |ref}}',\n",
       " 'population_census': '12,973,808',\n",
       " 'population_estimate_year': '{{UN_Population |Year}}',\n",
       " 'population_estimate_rank': '73rd',\n",
       " 'population_census_year': '2012',\n",
       " 'population_density_km2': '26',\n",
       " 'population_density_sq_mi': '57',\n",
       " 'population_density_rank': '170th',\n",
       " 'GDP_PPP': '$41.031 billion',\n",
       " 'GDP_PPP_year': '2019',\n",
       " 'GDP_PPP_per_capita': '$2,621',\n",
       " 'GDP_nominal': '$22.290 billion',\n",
       " 'GDP_nominal_year': '2019',\n",
       " 'GDP_nominal_per_capita': '$1,424',\n",
       " 'Gini': '50.1',\n",
       " 'Gini_year': '1995',\n",
       " 'HDI': '0.563',\n",
       " 'HDI_year': '2018',\n",
       " 'HDI_change': 'increase',\n",
       " 'HDI_rank': '150th',\n",
       " 'currency': '[[RTGS Dollar|Zimbabwean dollar]] (current) <br>',\n",
       " 'time_zone': '[[Central Africa Time|CAT]]',\n",
       " 'utc_offset': '+2',\n",
       " 'drives_on': '[[Right- and left-hand traffic|left]]',\n",
       " 'calling_code': '[[+263]]',\n",
       " 'cctld': '[[.zw]]'}"
      ]
     },
     "execution_count": 12,
     "metadata": {},
     "output_type": "execute_result"
    }
   ],
   "source": [
    "page = wptools.page('Zimbabwe')\n",
    "page.get_parse(False)\n",
    "page.data['infobox']"
   ]
  },
  {
   "cell_type": "markdown",
   "metadata": {},
   "source": [
    "Remarques :\n",
    "* La commande <code>wptools.page()</code> effectue une requête HTTP vers la page wikipédia dont on lui passe le nom.\n",
    "* Le code ci-dessus demande ensuite d'analyser le contenu de la page, puis de récupérer le contenu de la boîte d'information.\n",
    "* <code>page.data['infobox']</code> est un dictionnaire. Charge à nous maintenant de récupérer les informations qui nous intéressent.\n",
    "\n",
    "<b>N.B.1</b> <code>wptools</code> émet des messages d'information (sur fond rose dans le notebook), qu'on pourra empêcher plus tard.<br>\n",
    "<b>N.B.2</b> La documentation de <code>wptools</code> est consultable à l'adresse https://github.com/siznax/wptools\n"
   ]
  },
  {
   "cell_type": "markdown",
   "metadata": {},
   "source": [
    "<div style=\"background-color:#dde;padding:10px;border-radius:3px\">\n",
    "<b>Etape 2 - </b> A partir du code fourni, écrire une fonction <code>get_info(country)</code> qui prend en argument le nom de la page wikipédia du pays à analyser et renvoie la boîte d'information obtenue."
   ]
  },
  {
   "cell_type": "code",
   "execution_count": 58,
   "metadata": {
    "util.bundle": "correcteur"
   },
   "outputs": [],
   "source": [
    "from zipfile import ZipFile\n",
    "import json\n",
    "\n",
    "def get_info(country):\n",
    "    with ZipFile('africa.zip','r') as z:\n",
    "    \n",
    "        # liste des documents contenus dans le fichier zip\n",
    "        #print(z.namelist())\n",
    "        #print()\n",
    "    \n",
    "        # infobox de l'un des pays\n",
    "        info = json.loads(z.read(country+\".json\"))\n",
    "        #print(info)\n",
    "        return info"
   ]
  },
  {
   "cell_type": "markdown",
   "metadata": {},
   "source": [
    "<div style=\"background-color:#fdd;padding:10px;border-radius:3px\">\n",
    "<b>Remarque importante - </b> Si vous avez du mal à installer wp_tools, sachez qu'on l'introduit ici pour expliquer la démarche. Par contre vous n'en aurez rapidement plus besoin dans la suite puisqu'on vous fournira les données afin de vous éviter de faire de trop fréquentes requêtes sur wikipédia durant le déroulement du TD et du projet.\n",
    "\n",
    "Pour contourner wp_tools, développez la fonction <code>get_info</code> à partir du code permettant de lire un fichier zip donné en question 3.2. De cette manière vous accèderez aux données via le fichier zip fourni, plutôt qu'en envoyant systématiquement des requêtes à wikipédia. Toute la suite exploite le résultat de cette fonction, et ne posera donc pas de problème en l'absence de wptools."
   ]
  },
  {
   "cell_type": "code",
   "execution_count": 59,
   "metadata": {
    "scrolled": true,
    "util.bundle": "correcteur"
   },
   "outputs": [
    {
     "data": {
      "text/plain": [
       "{'conventional_long_name': 'Republic of Zimbabwe',\n",
       " 'common_name': 'Zimbabwe',\n",
       " 'native_name': '{{collapsible list\\n  | titlestyle |=| background:transparent;text-align:center;line-height:normal;font-size:84%;\\n  | title |=| 13 other official names\\n  | |Infobox|subbox|=|yes|bodystyle|=|font-size:77%;font-weight:normal;\\n   | rowclass1 |=| mergedrow | label1 |=| [[Shona language|Shona]]:\\n   | data1 |=| |lang|sn|Nyika yeZimbabwe|\\n   | rowclass2 |=| mergedrow | label2 |=| [[Northern Ndebele language|Ndebele]]:\\n   | data2 |=| |lang|nd|Ilizwe leZimbabwe|\\n   | rowclass3 |=| mergedrow | label3 |=| [[Chewa language|Chewa]]:\\n   | data3 |=| |lang|ny|Dziko la Zimbabwe|\\n   | rowclass4 |=| mergedrow | label4 |=| [[Sena language|Chibarwe]]:\\n   | data4 |=| |lang|bwg|Dziko la Zimbabwe|\\n   | rowclass5 |=| mergedrow | label5 |=| [[Kalanga language|Kalanga]]:\\n   | data5 |=| |lang|kck|Hango yeZimbabwe|\\n   | rowclass6 |=| mergedrow | label6 |=| [[Tshwa language|Khoisan]]:\\n   | data6 |=| |lang|st|Zimbabwe Nù|\\n   | rowclass7 |=| mergedrow | label7 |=| [[Nambya language|Nambya]]:\\n   | data7 |=| |lang|nmq|Inyika yeZimbabwe|\\n   | rowclass8 |=| mergedrow | label8 |=| [[Ndau dialect|Ndau]]:\\n   | data8 |=| |lang|ndc|Nyika yeZimbabwe|\\n   | rowclass9 |=| mergedrow | label9 |=| [[Tsonga language|Shangani]]:\\n   | data9 |=| |lang|ts|Tiko ra Zimbabwe|\\n   | rowclass10 |=| mergedrow| label10 |=| [[Sesotho language|Sesotho]]:\\n   | data10 |=| |lang|st|Naha ya Zimbabwe|\\n   | rowclass11 |=| mergedrow| label11 |=| [[Tonga language (Zambia and Zimbabwe)|Tonga]]:\\n   | data11 |=| |lang|st|Cisi ca Zimbabwe|\\n   | rowclass12 |=| mergedrow| label12 |=| [[Venda language|Venda]]:\\n   | data12 |=| |lang|ve|Shango ḽa Zimbabwe|\\n   | rowclass13 |=| mergedrow| label13 |=| [[Xhosa language|Xhosa]]:\\n   | data13 |=| |lang|xh|Ilizwe leZimbabwe|\\n   |}} {{Infobox|subbox|=|yes|bodystyle|=|font-size:77%;font-weight:normal;\\n   | rowclass1 |=| mergedrow | label1 |=| [[Shona language|Shona]]:\\n   | data1 |=| |lang|sn|Nyika yeZimbabwe|\\n   | rowclass2 |=| mergedrow | label2 |=| [[Northern Ndebele language|Ndebele]]:\\n   | data2 |=| |lang|nd|Ilizwe leZimbabwe|\\n   | rowclass3 |=| mergedrow | label3 |=| [[Chewa language|Chewa]]:\\n   | data3 |=| |lang|ny|Dziko la Zimbabwe|\\n   | rowclass4 |=| mergedrow | label4 |=| [[Sena language|Chibarwe]]:\\n   | data4 |=| |lang|bwg|Dziko la Zimbabwe|\\n   | rowclass5 |=| mergedrow | label5 |=| [[Kalanga language|Kalanga]]:\\n   | data5 |=| |lang|kck|Hango yeZimbabwe|\\n   | rowclass6 |=| mergedrow | label6 |=| [[Tshwa language|Khoisan]]:\\n   | data6 |=| |lang|st|Zimbabwe Nù|\\n   | rowclass7 |=| mergedrow | label7 |=| [[Nambya language|Nambya]]:\\n   | data7 |=| |lang|nmq|Inyika yeZimbabwe|\\n   | rowclass8 |=| mergedrow | label8 |=| [[Ndau dialect|Ndau]]:\\n   | data8 |=| |lang|ndc|Nyika yeZimbabwe|\\n   | rowclass9 |=| mergedrow | label9 |=| [[Tsonga language|Shangani]]:\\n   | data9 |=| |lang|ts|Tiko ra Zimbabwe|\\n   | rowclass10 |=| mergedrow| label10 |=| [[Sesotho language|Sesotho]]:\\n   | data10 |=| |lang|st|Naha ya Zimbabwe|\\n   | rowclass11 |=| mergedrow| label11 |=| [[Tonga language (Zambia and Zimbabwe)|Tonga]]:\\n   | data11 |=| |lang|st|Cisi ca Zimbabwe|\\n   | rowclass12 |=| mergedrow| label12 |=| [[Venda language|Venda]]:\\n   | data12 |=| |lang|ve|Shango ḽa Zimbabwe|\\n   | rowclass13 |=| mergedrow| label13 |=| [[Xhosa language|Xhosa]]:\\n   | data13 |=| |lang|xh|Ilizwe leZimbabwe|}} {{lang|sn|Nyika yeZimbabwe}} {{lang|nd|Ilizwe leZimbabwe}} {{lang|ny|Dziko la Zimbabwe}} {{lang|bwg|Dziko la Zimbabwe}} {{lang|kck|Hango yeZimbabwe}} {{lang|st|Zimbabwe Nù}} {{lang|nmq|Inyika yeZimbabwe}} {{lang|ndc|Nyika yeZimbabwe}} {{lang|ts|Tiko ra Zimbabwe}} {{lang|st|Naha ya Zimbabwe}} {{lang|st|Cisi ca Zimbabwe}} {{lang|ve|Shango ḽa Zimbabwe}} {{lang|xh|Ilizwe leZimbabwe}}',\n",
       " 'image_flag': 'Flag of Zimbabwe.svg',\n",
       " 'image_coat': 'Coat of Arms of Zimbabwe.svg',\n",
       " 'national_motto': '\"Unity, Freedom, Work\"',\n",
       " 'national_anthem': '<br />\"[[National Anthem of Zimbabwe|Blessed be the land of Zimbabwe]]\" <div style= \"padding-top:0.5em;\"><center>[[File:Zimbabwe National Anthem.ogg]]</center></div>',\n",
       " 'image_map': 'Location Zimbabwe AU Africa.svg',\n",
       " 'map_caption': '{{map caption |location_color|=| dark blue |region|=| the [[African Union]] |region_color|=| light blue}}',\n",
       " 'capital': '[[Harare]]',\n",
       " 'coordinates': '{{Coord |17|50|S|31|3|E|type:city}}',\n",
       " 'largest_city': 'Harare',\n",
       " 'official_languages': '[[Languages of Zimbabwe|16 languages]]: {{hlist | [[Chewa language|Chewa]] | [[Chibarwe]] | [[English language|English]] | [[Kalanga language|Kalanga]] |\"[[Khoisan languages|Koisan]]\" (presumably [[Tsoa language|Tsoa]]) | [[Nambya language|Nambya]] | [[Ndau language|Ndau]] | [[Northern Ndebele language|Ndebele]] | [[Shangani language|Shangani]] |[[Shona language|Shona]] |\"[[Zimbabwean sign languages|sign language]]\" |[[Sotho language|Sotho]] | [[Tonga language (Zambia)|Tonga]] | [[Tswana language|Tswana]] | [[Venda language|Venda]] | [[Xhosa language|Xhosa]]}}',\n",
       " 'ethnic_groups': '{{unbulleted list\\n  | 99.4% Black African (over 80% [[Shona people|Shona]]; [[Northern Ndebele people|Ndebele]] are largest minority)\\n  | |nowrap|0.2% [[White people in Zimbabwe|White African]]|\\n  | 0.4% others, including [[Coloured]] and [[Indians in Zimbabwe|Indian]]}} {{nowrap|0.2% [[White people in Zimbabwe|White African]]}}',\n",
       " 'ethnic_groups_year': '2012',\n",
       " 'demonym': 'Zimbabwean<br />Zimbo (colloquial)',\n",
       " 'government_type': '[[Unitary state|Unitary]] [[Presidential system|presidential]] [[republic]]',\n",
       " 'leader_title1': '[[List of Presidents of Zimbabwe|President]]',\n",
       " 'leader_name1': '[[Emmerson Mnangagwa]]',\n",
       " 'leader_title2': '[[Vice President of Zimbabwe|Vice Presidents]]',\n",
       " 'leader_name2': '[[Constantino Chiwenga]] <br> [[Kembo Mohadi]]',\n",
       " 'legislature': '[[Parliament of Zimbabwe|Parliament]]',\n",
       " 'upper_house': '[[Senate of Zimbabwe|Senate]]',\n",
       " 'lower_house': '[[House of Assembly (Zimbabwe)|House of Assembly]]',\n",
       " 'sovereignty_type': '[[Independence]] {{nobold |from the [[United Kingdom]]}}',\n",
       " 'established_event1': '[[Unilateral Declaration of Independence (Rhodesia)|Declared]]',\n",
       " 'established_date1': '11 November 1965',\n",
       " 'established_event2': '[[Rhodesia|Republic]]',\n",
       " 'established_date2': '2 March 1970',\n",
       " 'established_event3': '[[Zimbabwe Rhodesia]]',\n",
       " 'established_date3': '1 June 1979',\n",
       " 'established_event4': 'Republic of Zimbabwe',\n",
       " 'established_date4': '18 April 1980',\n",
       " 'established_event5': '[[Constitution of Zimbabwe|Current constitution]]',\n",
       " 'established_date5': '15 May 2013',\n",
       " 'area_km2': '390,757',\n",
       " 'area_rank': '60th',\n",
       " 'area_sq_mi': '150,871',\n",
       " 'percent_water': '1',\n",
       " 'population_estimate': '{{UN_Population |Zimbabwe}} {{UN_Population |ref}}',\n",
       " 'population_census': '12,973,808',\n",
       " 'population_estimate_year': '{{UN_Population |Year}}',\n",
       " 'population_estimate_rank': '73rd',\n",
       " 'population_census_year': '2012',\n",
       " 'population_density_km2': '26',\n",
       " 'population_density_sq_mi': '57',\n",
       " 'population_density_rank': '170th',\n",
       " 'GDP_PPP': '$41.031 billion',\n",
       " 'GDP_PPP_year': '2019',\n",
       " 'GDP_PPP_per_capita': '$2,621',\n",
       " 'GDP_nominal': '$22.290 billion',\n",
       " 'GDP_nominal_year': '2019',\n",
       " 'GDP_nominal_per_capita': '$1,424',\n",
       " 'Gini': '50.1',\n",
       " 'Gini_year': '1995',\n",
       " 'HDI': '0.535',\n",
       " 'HDI_year': '2017',\n",
       " 'HDI_change': 'increase',\n",
       " 'HDI_rank': '156th',\n",
       " 'currency': '[[RTGS Dollar]] (official for government), [[United States dollar]], [[South African rand]], and many other currencies<sup>a</sup>, e.g. [[Botswana pula]] (P),[[Indian rupee]]s (₹)  [[Renminbi|Chinese renminbi]] (¥), , [[pound sterling]] (£),[[euro]]s (€) [[Australian dollar]]s (A$). [[Zimbabwean bond coins]] are used as a proxy for US dollar and cent coins. [[Zimbabwean bond notes]] for 2 and 5 dollars were introduced in 2016 at par value of the US dollar.',\n",
       " 'time_zone': '[[Central Africa Time|CAT]]',\n",
       " 'utc_offset': '+2',\n",
       " 'drives_on': '[[Right- and left-hand traffic|left]]',\n",
       " 'calling_code': '[[+263]]',\n",
       " 'cctld': '[[.zw]]',\n",
       " 'footnote_a': \"The [[Zimbabwean dollar]] is no longer in active use after it was officially suspended by the government due to [[Hyperinflation in Zimbabwe|hyperinflation]]. The [[United States dollar]] (US$), [[Euro]] (€), [[South African rand]] (R), [[Botswana pula]] (P), [[Pound sterling]] (£), [[Indian rupee]]s ( {{INR}} ), [[Australian dollar]]s (A$), Chinese [[Renminbi]] (元/¥), and [[Japanese yen]] (¥) are legal tender. {{larger |ref|{{Citation | last = Hungwe | first = Brian | date = 6 February 2014 | url = https://www.bbc.com/news/world-africa-26034078 | work = News | title = Zimbabwe's multi-currency confusion | publisher = BBC | accessdate = 26 May 2014}}|</ref>}} The United States dollar has been adopted as the official currency for all government transactions.\"}"
      ]
     },
     "execution_count": 59,
     "metadata": {},
     "output_type": "execute_result"
    }
   ],
   "source": [
    "get_info('Zimbabwe')"
   ]
  },
  {
   "cell_type": "markdown",
   "metadata": {},
   "source": [
    "<div style=\"background-color:#dde;padding:10px;border-radius:3px\">\n",
    "<b>Etape 3 - </b>  Ecrire une fonction <code>print_capital(info)</code> qui prend en argument la boîte d'information renvoyée par la fonction précédente, et affiche le nom du pays, la capitale et ses coordonnées géographiques *(peu importe le format pour l'instant)*."
   ]
  },
  {
   "cell_type": "code",
   "execution_count": 62,
   "metadata": {
    "util.bundle": "correcteur"
   },
   "outputs": [],
   "source": [
    "def print_capital(info):\n",
    "     print([info['common_name'],info['capital'],info['coordinates']])"
   ]
  },
  {
   "cell_type": "markdown",
   "metadata": {},
   "source": [
    "<div style=\"background-color:#dde;padding:10px;border-radius:3px\">\n",
    "<b>Etape 4 - </b>  Tester ces fonctions avec quelques pays, par exemple le Zimbabwe, le Japon,  l'Allemagne, le Canada ou l'Australie."
   ]
  },
  {
   "cell_type": "code",
   "execution_count": 63,
   "metadata": {
    "util.bundle": "correcteur"
   },
   "outputs": [
    {
     "name": "stdout",
     "output_type": "stream",
     "text": [
      "['Zimbabwe', '[[Harare]]', '{{Coord |17|50|S|31|3|E|type:city}}']\n"
     ]
    }
   ],
   "source": [
    "print_capital(get_info('Zimbabwe'))"
   ]
  },
  {
   "cell_type": "markdown",
   "metadata": {},
   "source": [
    "<b>1.3 Mise en forme des données</b>"
   ]
  },
  {
   "cell_type": "markdown",
   "metadata": {},
   "source": [
    "Il ne vous aura pas échappé que le format des informations récupérées n'est pas optimal (crochets autour du nom de la capitale, présence parfois d'informations supplémentaires non désirées, coordonnées peu exploitables telles quelles). Pour certains pays, même la récupération du nom du pays n'est pas triviale."
   ]
  },
  {
   "cell_type": "markdown",
   "metadata": {},
   "source": [
    "Les <a href=\"https://docs.python.org/3/library/re.html\">expressions régulières</a> sont un outil puissant permettant de récupérer des informations dans une chaîne de caractères au format connu mais complexe. Il s'agit d'un mécanisme présent dans de nombreux langages de programmation, permettant d'analyser des chaînes de caractères et d'en extraire de l'information. \n",
    "\n",
    "Le code ci-dessous montre comment récupérer le nom de la capitale, compris entre les doubles crochets <span style=\"color:#800\"><i>(à condition bien sûr que vous ayez bien réalisé la fonction <tt>get_info()</tt> comme demandé ci-dessus)</i></span> :<code>"
   ]
  },
  {
   "cell_type": "code",
   "execution_count": 64,
   "metadata": {},
   "outputs": [
    {
     "name": "stdout",
     "output_type": "stream",
     "text": [
      "Chaîne brute : [[Harare]]\n",
      "Capitale : Harare\n"
     ]
    }
   ],
   "source": [
    "#\n",
    "# import du module permettant d'exploiter des expressions régulières\n",
    "#\n",
    "import re\n",
    "\n",
    "zw = get_info('Zimbabwe')\n",
    "capital = zw['capital']\n",
    "print('Chaîne brute : {}'.format(capital))\n",
    "\n",
    "# Analyse de la chaîne brute en la comparant à [[*]], et en mémorisant le contenu des crochets\n",
    "m = re.match(\"\\[\\[(\\w+)\\]\\]\", capital)\n",
    "\n",
    "capital = m.group(1)\n",
    "print('Capitale : {}'.format(capital))"
   ]
  },
  {
   "cell_type": "markdown",
   "metadata": {},
   "source": [
    "<div style=\"background-color:#dde;padding:10px;border-radius:3px\">\n",
    "<b>Etape 5 - </b>  Ecrire une fonction <code>get_name(info)</code> qui prend en argument une infobox de pays et renvoie le nom officiel du pays. Cette information se trouve a priori dans le champ nommé <code>conventional_long_name</code>."
   ]
  },
  {
   "cell_type": "code",
   "execution_count": 65,
   "metadata": {
    "util.bundle": "correcteur",
    "util.bundle.source": [
     "#\n",
     "# Récupération du nom complet d'un pays depuis l'infobox wikipédia\n",
     "#"
    ]
   },
   "outputs": [],
   "source": [
    "def get_name(info):\n",
    "    if 'conventional_long_name' in info:\n",
    "        name=info['conventional_long_name']\n",
    "        m=re.match(\"([\\w,-]+?)\\s*{{\",name)\n",
    "        if m:\n",
    "            name=m.group(1)\n",
    "    m=re.match(\"{{.*\\]([\\w, -]+)}}\",name)\n",
    "    if m:\n",
    "        name=m.group(1)\n",
    "    return name"
   ]
  },
  {
   "cell_type": "markdown",
   "metadata": {},
   "source": [
    "<div style=\"background-color:#dde;padding:10px;border-radius:3px\">\n",
    "<b>Etape 6 - </b>  Tester avec les pays suggérés plus haut.\n",
    "</div>"
   ]
  },
  {
   "cell_type": "code",
   "execution_count": 66,
   "metadata": {
    "util.bundle": "correcteur",
    "util.bundle.source": [
     "# test de la fonction get_name(info)"
    ]
   },
   "outputs": [
    {
     "data": {
      "text/plain": [
       "'Republic of Zimbabwe'"
      ]
     },
     "execution_count": 66,
     "metadata": {},
     "output_type": "execute_result"
    }
   ],
   "source": [
    "get_name(get_info('Zimbabwe'))"
   ]
  },
  {
   "cell_type": "markdown",
   "metadata": {},
   "source": [
    "<div style=\"background-color:#ded;padding:10px;border-radius:3px\">\n",
    "<b>N.B.</b> \n",
    "Pour certains pays <i>(Singapour, Vanuatu...)</i> le champ <code>conventional_long_name</code> n'est pas présent, pour d'autres l'information est plus complexe et donc plus difficile à extraire. Il est donc prévu que vous complétiez cette fonction (et les suivantes) au fur et à mesure des besoins, éventuellement mais pas nécessairement au cours de ce TD, sinon lors des TDs suivants ou de votre projet, pour arriver à traiter tous les pays qui vous concernent. N'hésitez pas pour cela à traiter les cas particuliers comme tels si nécessaire.\n",
    "</div>\n",
    "\n",
    "Allez donc au plus simple pour l'instant, mais prévoyez de compléter ce code par la suite.\n"
   ]
  },
  {
   "cell_type": "markdown",
   "metadata": {},
   "source": [
    "<div style=\"background-color:#dde;padding:10px;border-radius:3px\">\n",
    "<b>Etape 7 - </b>  Dans la même démarche, écrire une fonction <code>get_capital(info)</code> qui prend en argument une infobox de pays et renvoie une chaîne de caractères avec le nom de la capitale, et tester avec les pays déjà évoqués plus haut."
   ]
  },
  {
   "cell_type": "code",
   "execution_count": 10,
   "metadata": {
    "util.bundle": "correcteur",
    "util.bundle.source": [
     "#\n",
     "# Récupération de la capitale d'un pays depuis l'infobox wikipédia\n",
     "#"
    ]
   },
   "outputs": [],
   "source": [
    "#\n",
    "# Récupération de la capitale d'un pays depuis l'infobox wikipédia\n",
    "#"
   ]
  },
  {
   "cell_type": "code",
   "execution_count": 11,
   "metadata": {
    "util.bundle": "correcteur",
    "util.bundle.source": [
     "# test de la fonction get_capital(info)"
    ]
   },
   "outputs": [],
   "source": [
    "# test de la fonction get_capital(info)"
   ]
  },
  {
   "cell_type": "markdown",
   "metadata": {},
   "source": [
    "<div style=\"background-color:#dde;padding:10px;border-radius:3px\">\n",
    "<b>Etape 8 - </b>  Procéder de même avec les coordonnées géographiques. Il sera nécessaire de convertir les expressions en degrés, minutes, secondes, avec indication de la direction N/S et E/O, pour obtenir une information en degrés sous la forme d'un nombre décimal, positif ou négatif.\n",
    "\n",
    "La fonction <code>get_coords(info)</code> devra renvoyer un dictionnaire avec deux éléments respectivement nommés <code>lat</code> et <code>lon</code>."
   ]
  },
  {
   "cell_type": "code",
   "execution_count": 12,
   "metadata": {
    "collapsed": true,
    "util.bundle": "correcteur",
    "util.bundle.source": [
     "#\n",
     "# Récupération des coordonnées de la capitale depuis l'infobox d'un pays\n",
     "#"
    ]
   },
   "outputs": [],
   "source": [
    "#\n",
    "# Récupération des coordonnées de la capitale depuis l'infobox d'un pays\n",
    "#"
   ]
  },
  {
   "cell_type": "code",
   "execution_count": 13,
   "metadata": {
    "util.bundle": "correcteur",
    "util.bundle.source": [
     "# test de la fonction get_coords(info)"
    ]
   },
   "outputs": [],
   "source": [
    "# test de la fonction get_coords(info)"
   ]
  },
  {
   "cell_type": "markdown",
   "metadata": {},
   "source": [
    "<h3 style=\"background-color:#eef; padding:0.5em\">2. Mise en place d'une base de données</h3>\n",
    "\n",
    "<b>2.1. Création de la base :</b>\n",
    "\n",
    "En Python, la création d'une base de données SQLite est particulièrement simple à effectuer :"
   ]
  },
  {
   "cell_type": "code",
   "execution_count": 14,
   "metadata": {},
   "outputs": [],
   "source": [
    "#\n",
    "# import du module d'accès à la base de données\n",
    "#\n",
    "import sqlite3\n",
    "\n",
    "#\n",
    "# Ouverture d'une connexion avec la base de données\n",
    "#\n",
    "conn = sqlite3.connect('pays.sqlite')"
   ]
  },
  {
   "cell_type": "markdown",
   "metadata": {},
   "source": [
    "Ce code permet d'ouvrir une connexion avec la base de données des pays. Si elle n'existe pas, elle est créée !\n",
    "\n",
    "<div style=\"background-color:#dde;padding:10px;border-radius:3px\">\n",
    "<b>Etape 9 - </b> Vérifier l'apparition d'un fichier nommé <code>pays.sqlite</code> dans le répertoire dans lequel se trouve le présent notebook.\n",
    "</div>\n",
    "\n",
    "<img src=\"pays_sqlite.png\">"
   ]
  },
  {
   "cell_type": "markdown",
   "metadata": {},
   "source": [
    "Toutes les opérations sur une base de données de ce type peuvent être effectuées en Python via les fonctions présentes au sein du module <code>sqlite3</code>.\n",
    "\n",
    "Cependant, pour manipuler de manière interactive le contenu de la base <i>(créer, supprimer ou modifier des tables et des enregistrements, effectuer des requêtes SQL...)</i> il existe des outils adaptés.\n",
    "\n",
    "L'outil retenu dans le cadre de ce cours s'appelle \"DB Browser for SQLite\". C'est un logiciel libre qui existe pour toutes les plateformes (Windows, MacOs, nombreuses distribution Linux et Unix...).\n",
    "\n",
    "<div style=\"background-color:#dde;padding:10px;border-radius:3px;margin-top:1.33em\">\n",
    "<b>Etape 10 - </b>Télécharger et installer <a href=\"http://sqlitebrowser.org/\">DB Browser for SQLite</a> en suivant les instructions d'installation en fonction de votre système d'exploitation.\n",
    "</div>\n",
    "\n",
    "Démarrer DB Browser for SQLite en ouvrant la base de données (vide pour l'instant) qui vient d'être créée.\n",
    "\n",
    "<img src=\"empty_db.png\" width=\"600px\" style=\"box-shadow:3px 3px 3px #888\">\n",
    "<div style=\"text-align:center; font-size:80%; margin-top:0.5em\">Interface de DB Browser for SQLite</div>"
   ]
  },
  {
   "cell_type": "markdown",
   "metadata": {},
   "source": [
    "<b>2.2. Création d'une table</b>\n",
    "\n",
    "Avant de pouvoir enregistrer dans la base de données les informations que nous sommes maintenant capables de récupérer depuis wikipédia, il est nécessaire de décrire leur format en créant une table.\n",
    "\n",
    "<div style=\"background-color:#dde;padding:10px;border-radius:3px\">\n",
    "<b>Etape 11 - </b> Via l'interface de DB Browser for SQLite, créer une table nommée \"countries\" destinée à recevoir les informations extraites de wikipédia, avec les champs suivants (décrits ici en langage SQL) <b>en n'oubliant pas d'enregistrer les modifications</b> :"
   ]
  },
  {
   "cell_type": "raw",
   "metadata": {
    "collapsed": true
   },
   "source": [
    "CREATE TABLE `countries` (              -- la table est nommé \"countries\"\n",
    "\t`wp`\tTEXT NOT NULL UNIQUE,       -- nom de la page wikipédia, non nul, unique\n",
    "\t`name`\tTEXT,                       -- nom complet du pays\n",
    "\t`capital`\tTEXT,                   -- nom de la capitale\n",
    "\t`latitude`\tREAL,                   -- latitude, champ numérique à valeur décimale\n",
    "\t`longitude`\tREAL,                   -- longitude, champ numérique à valeur décimale\n",
    "\tPRIMARY KEY(`wp`)                   -- wp est la clé primaire\n",
    ");"
   ]
  },
  {
   "cell_type": "markdown",
   "metadata": {},
   "source": [
    "<img src=\"table_countries.png\" style=\"width:500px;border:1px solid #ccc; box-shadow:3px 3px 3px #888\">\n",
    "<div style=\"text-align:center; font-size:80%; margin-top:0.5em\">Visualisation de la table countries dans DB Browser for SQLite</div>"
   ]
  },
  {
   "cell_type": "markdown",
   "metadata": {},
   "source": [
    "<b>2.3. Ecriture dans la base</b>\n",
    "\n",
    "Via Python, l'écriture d'un enregistrement dans la base s'effectue en soumettant une requête SQL INSERT. En supposant que la variable zw contient l'infobox récupérée sur wikipédia au sujet du Zimbabwe, voici comment procéder :"
   ]
  },
  {
   "cell_type": "raw",
   "metadata": {},
   "source": [
    "# ouverture d'une connexion avec la base de données\n",
    "conn = sqlite3.connect('pays.sqlite')\n",
    "\n",
    "# préparation de la commande SQL\n",
    "c = conn.cursor()\n",
    "sql = 'INSERT INTO countries VALUES (?, ?, ?, ?, ?)'\n",
    "\n",
    "# les infos à enregistrer\n",
    "name = get_name(zw)\n",
    "capital = get_capital(zw)\n",
    "coords = get_coords(zw)\n",
    "\n",
    "# soumission de la commande (noter que le second argument est un tuple)\n",
    "c.execute(sql,('Zimbabwe',name, capital, coords['lat'],coords['lon']))\n",
    "conn.commit()"
   ]
  },
  {
   "cell_type": "markdown",
   "metadata": {},
   "source": [
    "<div style=\"background-color:#dde;padding:10px;border-radius:3px\">\n",
    "<b>Etape 12 - </b> En vous basant sur le code ci-dessus, créer une fonction <code>save_country(conn,country,info)</code> qui enregistre les information dans la base de données, et dont les arguments sont la connexion ouverte avec la base de données, le nom du pays et l'infobox récupérée sur wikipédia."
   ]
  },
  {
   "cell_type": "code",
   "execution_count": 15,
   "metadata": {
    "collapsed": true,
    "util.bundle": "correcteur"
   },
   "outputs": [],
   "source": [
    "# votre code ici"
   ]
  },
  {
   "cell_type": "markdown",
   "metadata": {},
   "source": [
    "Tester avec au moins un pays, et vérifier à l'aide de DB Browser que l'enregistrement a bien été effectué :\n",
    "\n",
    "<img src=\"enregistrement_zw.png\" style=\"width:500px; border:1px solid #ccc;box-shadow:3px 3px 3px #888\"/>\n",
    "<div style=\"text-align:center; font-size:80%; margin-top:0.5em\">Visualisation d'un enregistrement dans DB Browser for SQLite</div>"
   ]
  },
  {
   "cell_type": "code",
   "execution_count": 16,
   "metadata": {
    "collapsed": true,
    "util.bundle": "correcteur",
    "util.bundle.source": [
     "# votre code ici"
    ]
   },
   "outputs": [],
   "source": [
    "# votre code ici"
   ]
  },
  {
   "cell_type": "markdown",
   "metadata": {},
   "source": [
    "<div style=\"background-color:#dde;padding:10px;border-radius:3px\">\n",
    "<b>Etape 13 - </b> Créer une fonction <code>read_country(conn,country)</code> dont les arguments sont la connexion ouverte avec la base de données et le nom du pays, qui tente de lire les informations du pays dans la base de données et les renvoie, ou renvoie None si le pays n'existe pas dans la base."
   ]
  },
  {
   "cell_type": "code",
   "execution_count": 17,
   "metadata": {
    "util.bundle": "correcteur"
   },
   "outputs": [],
   "source": [
    "# votre code ici"
   ]
  },
  {
   "cell_type": "markdown",
   "metadata": {},
   "source": [
    "<h3 style=\"background-color:#efe; padding:0.5em\">3. Pour aller plus loin...</h3>\n",
    "\n",
    "... et progresser vers la réalisation de votre projet, il s'agit maintenant d'extraire les informations de la page wikipédia de chacun des pays du continent qui vous concerne, et de les insérer dans la base de données."
   ]
  },
  {
   "cell_type": "markdown",
   "metadata": {},
   "source": [
    "<b>3.1. Vous avez dit scraping ?</b>\n",
    "\n",
    "Le scraping systématique de nombreuses pages peut potentiellement prendre du temps, et ce d'autant plus que le serveur de wikipédia semble devenir réticent à répondre lorsqu'on lui transmet des requêtes en rafale à une fréquence peu crédible pour un opérateur humain *(il se protège contre les attaques par déni de service DoS)*.\n",
    "\n",
    "Pour cette raison, pour vous permettre d'être plus efficaces dans cette étape, et la fraîcheur des informations récupérées n'étant pas un critère fondamental pour votre application, nous vous fournissons un fichier zip par continent, contenant pour chacun des pays concernés un fichier au format json avec le contenu de l'infobox tel que récupéré sur la page wikipédia.\n",
    "\n",
    "<img src=\"south_america_zip.png\" width=\"400\" style=\"border:1px solid #1883d7; box-shadow:3px 3px 3px #888\">\n",
    "<div style=\"text-align:center; font-size:80%; margin-top:0.5em\">Contenu du fichier south_america.zip</div>\n",
    "\n",
    "Le nom des fichiers json correspond au nom de la page wikipédia du pays, et au champ que nous avons nommé <code>wp</code> dans la base de données.\n",
    "\n",
    "<b>Rappel :</b> Affectation des continents aux groupes de projet :\n",
    "* projet A : Afrique\n",
    "* projet B : Asie\n",
    "* projet C : Europe\n",
    "* projet D : Amérique du nord\n",
    "* projet E : Amérique du sud et Océanie\n",
    "\n",
    "Pour information, la liste des pays par continents peut également se trouver sur le site https://www.countries-ofthe-world.com/. "
   ]
  },
  {
   "cell_type": "markdown",
   "metadata": {},
   "source": [
    "<b>3.2. Initialisation de la base</b>\n",
    "\n",
    "<div style=\"background-color:#ded;padding:10px;border-radius:3px\">\n",
    "<b>TODO - </b> Ecrire un programme qui parcourt le contenu du (ou des) fichier(s) zip qui vous concerne(nt) et écrit dans la base de données les informations extraites de l'infobox de chacun des pays à l'aide des fonctions précédemment développées.\n",
    "</div>\n",
    "<p>\n",
    "Voici comment obtenir la liste des documents contenus dans un fichier zip et récupérer le contenu d'une infobox <i>(à vous de généraliser)</i> :\n",
    "</p>"
   ]
  },
  {
   "cell_type": "code",
   "execution_count": 8,
   "metadata": {
    "scrolled": true
   },
   "outputs": [
    {
     "name": "stdout",
     "output_type": "stream",
     "text": [
      "['Australia.json', 'Fiji.json', 'Kiribati.json', 'Marshall_Islands.json', 'Federated_States_of_Micronesia.json', 'Nauru.json', 'New_Zealand.json', 'Palau.json', 'Papua_New_Guinea.json', 'Samoa.json', 'Solomon_Islands.json', 'Tonga.json', 'Tuvalu.json', 'Vanuatu.json']\n",
      "\n",
      "{'coordinates': '{{Coord|display|=|t}}', 'leader_name2': '[[Charlot Salwai]]', 'conventional_long_name': 'Republic of Vanuatu', 'native_name': '{{unbulleted list|item_style|=|font-size:88%; |native name|bi|Ripablik blong Vanuatu|italic|=|no| |native name|fr|République de Vanuatu|italic|=|no}} {{native name|bi|Ripablik blong Vanuatu|italic|=|no}} {{native name|fr|République de Vanuatu|italic|=|no}}', 'image_flag': 'Flag of Vanuatu (official).svg', 'image_coat': 'Coat of Arms of Vanuatu.svg', 'common_name': 'Vanuatu', 'symbol_type': 'Coat of arms', 'national_motto': '{{native phrase|bi|\"Long God yumi stanap\"|italics|=|off|nolink|=|on}} <br/> {{native phrase|fr|Nous nous tenons devant Dieu|italics|=|off|nolink|=|on}} <br/> {{small|\"In God we stand\"}} {{lower|0.2em|ref|{{cite web |last1=Vanuatu Daily Post |first1=Harrison Selmen|url=http://www.dailypost.vu/content/santo-chiefs-concerned-over-slow-pace-development-sanma?page=7&quicktabs_1=0 |title=Santo chiefs concerned over slow pace of development in Sanma|date=17 July 2011 |accessdate=29 August 2011}}|</ref>|sfn|Lynch|Pat|1993|p|=|319}} {{sfn|Lynch|Pat|1993|p|=|319}}', 'national_anthem': \"{{native name|bi|[[Yumi, Yumi, Yumi]]|nolink|=|on}} <br/> {{small|''We, We, We''}} <br/><center>[[File:United States Navy Band - Yumi, Yumi, Yumi.ogg]]</center>\", 'image_map': 'Vanuatu on the globe (Polynesia centered).svg', 'image_map2': 'Vanuatu - Location Map (2013) - VUT - UNOCHA.svg', 'capital': '[[Port Vila]]', 'largest_city': 'Port Vila', 'official_languages': '{{unbulleted list | [[Bislama language|Bislama]] | [[English language|English]] | [[French language|French]]}}', 'ethnic_groups': '{{unbulleted list |98.5% [[Ni-Vanuatu]] |1.5% Others}}', 'ethnic_groups_year': '1999', 'demonym': 'Ni-Vanuatu and Vanuatuan', 'government_type': '{{nowrap|[[Unitary state|Unitary]] [[Parliamentary republic|parliamentary]]}} [[republic]]', 'leader_title1': '[[President of Vanuatu|President]]', 'leader_name1': '[[Tallis Obed Moses]]', 'leader_title2': '[[Prime Minister of Vanuatu|Prime Minister]]', 'legislature': '[[Parliament of Vanuatu|Parliament]]', 'established_event1': 'from [[France]] and the [[United Kingdom]]', 'sovereignty_type': 'Independence', 'established_date1': '30 July 1980', 'established_event2': '[[United Nations Security Council Resolution 489|Admitted to the]] [[United Nations]]', 'established_date2': '15 September 1981', 'area_km2': '12,189', 'area_rank': '157th', 'area_sq_mi': '{{convert|12190|km2|sqmi|disp|=|output number only}}', 'population_census': '272,459', 'population_census_year': '2016', 'population_density_km2': '19.7', 'population_density_rank': '188th', 'population_density_sq_mi': '51', 'GDP_PPP': '$820&nbsp;million', 'GDP_PPP_year': '2018', 'GDP_PPP_rank': '178th', 'GDP_PPP_per_capita': '$2,850', 'GDP_PPP_per_capita_rank': '155th', 'GDP_nominal': '$957&nbsp;million', 'GDP_nominal_year': '2018', 'GDP_nominal_rank': '175th', 'GDP_nominal_per_capita': '$3,327', 'GDP_nominal_per_capita_rank': '124th', 'Gini': '37.6', 'Gini_year': '2010', 'HDI': '0.597', 'HDI_year': '2015', 'HDI_change': 'decrease', 'HDI_rank': '134th', 'currency': '[[Vanuatu vatu]]', 'currency_code': 'VUV', 'time_zone': 'VUT (Vanuatu Time)', 'utc_offset': '+11', 'drives_on': 'right', 'calling_code': '[[+678]]', 'cctld': '[[.vu]]'}\n"
     ]
    }
   ],
   "source": [
    "from zipfile import ZipFile\n",
    "import json\n",
    "\n",
    "with ZipFile('oceania.zip','r') as z:\n",
    "    \n",
    "    # liste des documents contenus dans le fichier zip\n",
    "    print(z.namelist())\n",
    "    print()\n",
    "    \n",
    "    # infobox de l'un des pays\n",
    "    info = json.loads(z.read('Vanuatu.json'))\n",
    "    print(info)"
   ]
  },
  {
   "cell_type": "code",
   "execution_count": 19,
   "metadata": {
    "util.bundle": "correcteur",
    "util.bundle.source": [
     "#\n",
     "# Initialisation des informations dans la base de données\n",
     "#"
    ]
   },
   "outputs": [],
   "source": [
    "#\n",
    "# Initialisation des informations dans la base de données\n",
    "#"
   ]
  },
  {
   "cell_type": "markdown",
   "metadata": {},
   "source": [
    "<b>3.3. S'amuser avec le contenu de la base de données</b>\n",
    "\n",
    "Maintenant que nous disposons des coordonnées d'un certain nombre de capitales, il est d'ores et déjà possible de construire des requêtes SQL pour répondre à des questions comme :\n",
    "\n",
    "* Quel est le pays (avec sa capitale et ses coordonnées) dont la capitale se situe le plus au nord ?\n",
    "* Quel est le pays (avec sa capitale et ses coordonnées) dont la capitale se situe le plus à l'est ?\n",
    "* Quels sont les pays dont la capitale se situe plus au nord que celle d'un pays donné ?\n",
    "* Quel est le pays dont la capitale se trouve le plus près de celle d'un pays donné ?\n",
    "* ad libitum...\n",
    "\n",
    "<div style=\"background-color:#ded;padding:10px;border-radius:3px\">\n",
    "<b>SUGGESTION - </b> Se prendre au jeu et imaginer les requêtes SQL permettant de répondre à certaines de ces questions..."
   ]
  },
  {
   "cell_type": "code",
   "execution_count": 20,
   "metadata": {
    "util.bundle": "correcteur"
   },
   "outputs": [],
   "source": [
    "# votre code ici"
   ]
  },
  {
   "cell_type": "markdown",
   "metadata": {},
   "source": [
    "<b>3.4. Renseigner la base avec l'ensemble des informations nécessaires au fonctionnement de l'application rêvée</b>\n",
    "\n",
    "Les informations actuellement collectées permettront de réaliser une application minimale.\n",
    "\n",
    "Pour aller plus loin, il sera pertinent de réfléchir aux données que vous voulez récupérer et exploiter pour votre projet. Pour cela il sera utile d'effectuer les étapes suivantes :\n",
    "\n",
    "<div style=\"background-color:#ded;padding:10px;border-radius:3px;margin-top:1.33em\">\n",
    "<b>TODO - Travail en groupe de projet </b>\n",
    "\n",
    "<ul>\n",
    "<li> analyser le contenu de l'infobox pays des pages wikipédia pour retenir les informations qui vous intéressent, et noter le nom de la clé de chacune de ces données dans l'infobox,\n",
    "\n",
    "<li> sur le modèle de <code>get_name()</code> et <code>get\\_capital()</code>, créer une fonction <code>get_\\*()</code> pour chacune des informations retenues pour extraire les données correspondantes de l'infobox et les mettre en forme,\n",
    "\n",
    "<li> modifier la table \"countries\" pour ajouter les champs nécessaires,\n",
    "\n",
    "<li> modifier la fonction <code>save_country</code> <i>(pour remplir la base en repartant d'une base vide)</i> ou créer une fonction <code>update_country</code> <i>(afin de compléter les enregistrements existants dans la base)</i> pour tenir compte de tous les champs.\n",
    "</ul>\n",
    "\n",
    "<p>\n",
    "<b>N.B.</b> Vous trouverez des informations plus détaillées sur cette démarche, et notamment une liste de clés exploitables dans l'ensemble des infoboxes, dans le notebook dédié au projet.\n",
    "</div>\n",
    "\n",
    "<p>\n",
    "Après avoir par exemple créé un champ nommé \"continent\" dans la table \"countries\" :\n",
    "<p>\n",
    "<img src=\"table_countries_continent.png\" style=\"width:500px;border:1px solid #ccc; box-shadow:3px 3px 3px #888\">\n",
    "<div style=\"text-align:center; font-size:80%; margin-top:0.5em\">Table countries après ajout du champ continent</div>\n",
    "\n",
    "... voici une fonction permettant d'ajouter le nom du continent à un enregistrement déjà présent dans la base :"
   ]
  },
  {
   "cell_type": "code",
   "execution_count": 21,
   "metadata": {
    "collapsed": true
   },
   "outputs": [],
   "source": [
    "#\n",
    "# Mise à jour du continent d'un pays dans la base de données \n",
    "#\n",
    "def update_country_continent(conn,country,continent):\n",
    "    \n",
    "    # préparation de la commande SQL\n",
    "    c = conn.cursor()\n",
    "    sql = 'UPDATE countries SET continent=? WHERE wp=?'\n",
    "\n",
    "    # soumission de la commande (noter que le second argument est un tuple)\n",
    "    c.execute(sql,(continent,country))\n",
    "    conn.commit()\n",
    "    \n"
   ]
  },
  {
   "cell_type": "code",
   "execution_count": 22,
   "metadata": {
    "collapsed": true,
    "util.bundle": "correcteur"
   },
   "outputs": [],
   "source": [
    "# votre code ici"
   ]
  },
  {
   "cell_type": "code",
   "execution_count": 23,
   "metadata": {
    "collapsed": true
   },
   "outputs": [],
   "source": []
  }
 ],
 "metadata": {
  "kernelspec": {
   "display_name": "Python 3",
   "language": "python",
   "name": "python3"
  },
  "language_info": {
   "codemirror_mode": {
    "name": "ipython",
    "version": 3
   },
   "file_extension": ".py",
   "mimetype": "text/x-python",
   "name": "python",
   "nbconvert_exporter": "python",
   "pygments_lexer": "ipython3",
   "version": "3.7.4"
  }
 },
 "nbformat": 4,
 "nbformat_minor": 2
}
